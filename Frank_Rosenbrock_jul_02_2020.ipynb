{
 "cells": [
  {
   "cell_type": "code",
   "execution_count": 1,
   "metadata": {
    "colab": {},
    "colab_type": "code",
    "id": "cG5nOUQ9Eucw"
   },
   "outputs": [],
   "source": [
    "# Rosenbrock\n",
    "# In the paper Ngen=3000  NPAR=100 dim=30\n",
    "# JADE: Adaptive Differential Evolution with Optional External Archive"
   ]
  },
  {
   "cell_type": "code",
   "execution_count": null,
   "metadata": {},
   "outputs": [],
   "source": []
  },
  {
   "cell_type": "code",
   "execution_count": 2,
   "metadata": {
    "colab": {},
    "colab_type": "code",
    "id": "_E15mKFURR6O"
   },
   "outputs": [],
   "source": [
    "import Go2Ann\n",
    "import de_soma_Insight\n",
    "import de_bounds_matriz\n",
    "import Function\n",
    "import Go2MinMax\n",
    "from AvaliaX import AvaliaX\n",
    "from GeraIndices import GeraIndices\n",
    "\n",
    "############################### DADOS DE ENTRADA \n",
    "RUNS=50 #NÚMERO DE RODADAS\n",
    "Fc=0.1 # fator de correcao parametros da ANN\n",
    "its=1 #10 # quantas vezes vai usar o NPAR antes de alterar de novo\n",
    "ITE=3000 #10 # PONTOS quantas vezes vai alteral NPAR \n",
    "NPAR=100 # NUMBER OF PARTICLES\n",
    "mut=0.5\n",
    "crossp=0.5\n",
    "Fi=mut;CRi=crossp;# para impressão\n",
    "\n",
    "#TOTAL=ITE\n",
    "\n",
    "############################### Função\n",
    "dim=30\n",
    "\n",
    "#fchoice='Rastrigin' #fchoice='Michalewicz' #fchoice='Schwefel'\n",
    "fchoice='Rosenbrock'\n",
    "Fun=Function.Rosenbrock\n",
    "\n",
    "MIN,MAX=Go2MinMax.Intervalo(dim,fchoice)\n",
    "PAR=len(MAX) #NUM DE PARAMETROS A SER OTIMIZADOS\n"
   ]
  },
  {
   "cell_type": "code",
   "execution_count": null,
   "metadata": {
    "colab": {},
    "colab_type": "code",
    "id": "v1OxgXboBKoG"
   },
   "outputs": [],
   "source": [
    "import time\n",
    "import matplotlib.pyplot as plt\n",
    "import numpy as np\n",
    "from random import randint\n",
    "from scipy import optimize\n",
    "import pandas as pd\n",
    "from sklearn.metrics import confusion_matrix"
   ]
  },
  {
   "cell_type": "code",
   "execution_count": null,
   "metadata": {
    "colab": {},
    "colab_type": "code",
    "id": "QiQLYOoNoyCw"
   },
   "outputs": [],
   "source": [
    "ANN_F=pd.read_csv('ANN_INSIGHT_Valor_F.csv')"
   ]
  },
  {
   "cell_type": "code",
   "execution_count": null,
   "metadata": {
    "colab": {},
    "colab_type": "code",
    "id": "uHtW2amaDzFv"
   },
   "outputs": [],
   "source": [
    "ANN_CR=pd.read_csv('ANN_INSIGHT_CR.csv')"
   ]
  },
  {
   "cell_type": "code",
   "execution_count": null,
   "metadata": {
    "colab": {},
    "colab_type": "code",
    "id": "EH6h_vke2yu1"
   },
   "outputs": [],
   "source": [
    "syn0_F,syn1_F,X_max_F,X_min_F=Go2Ann.GetMatriz(ANN_F)"
   ]
  },
  {
   "cell_type": "code",
   "execution_count": null,
   "metadata": {
    "colab": {},
    "colab_type": "code",
    "id": "WW_3ZWJXD60i"
   },
   "outputs": [],
   "source": [
    "syn0_CR,syn1_CR,X_max_CR,X_min_CR=Go2Ann.GetMatriz(ANN_CR)"
   ]
  },
  {
   "cell_type": "code",
   "execution_count": null,
   "metadata": {
    "colab": {},
    "colab_type": "code",
    "id": "b4gwBvVTyaXh"
   },
   "outputs": [],
   "source": [
    "ANN_CR=pd.read_csv('ANN_INSIGHT_CR.csv')"
   ]
  },
  {
   "cell_type": "code",
   "execution_count": null,
   "metadata": {
    "colab": {},
    "colab_type": "code",
    "id": "6jL8MxpHvk-Y"
   },
   "outputs": [],
   "source": [
    "fields = ['DI RELATIVO','FRAC Its','Fo','CRo']"
   ]
  },
  {
   "cell_type": "code",
   "execution_count": null,
   "metadata": {
    "colab": {},
    "colab_type": "code",
    "id": "Mb3LmbSmj9v7"
   },
   "outputs": [],
   "source": [
    "#TOTAL=7*dim*its*ITE\n",
    "TOTAL=10*dim*its*ITE\n",
    "#TOTAL=int(TOTAL/2)   # CONFERIR SE ESTE EH O MELHOR LUGAR\n",
    "\n",
    "\n",
    "\n",
    "dimensions=len(MAX)\n",
    "start_time = time.time() #INICIALIZA CONTAGEM DO TEMPO\n",
    "\n",
    "MAX_P=np.zeros(ITE) # ATENCAO para variar F e Cr MAX_P passa a ser 3 vezes maior\n",
    "MIN_P=np.zeros(ITE) # ATENCAO para variar F e Cr MIN_P passa a ser 3 vezes maior\n",
    "\n",
    "for i in range(dim):\n",
    "  MAX_P[i]=MAX[i] \n",
    "  MIN_P[i]=MIN[i]\n",
    "\n",
    "rodadas=1\n",
    "for i in range(rodadas):\n",
    "  SOMA=0\n",
    "  pop = np.random.rand(NPAR, dimensions)\n",
    "  diff=np.zeros(PAR)\n",
    "  for ii in range(PAR):\n",
    "    diff[ii] = MAX[ii]-MIN[ii]\n",
    "  X = MIN + pop * diff\n",
    "    \n",
    "  PONTOS=ITE # DIVISOES DA POPULACAO\n",
    "\n",
    " \n",
    "\n",
    "\n"
   ]
  },
  {
   "cell_type": "code",
   "execution_count": null,
   "metadata": {
    "colab": {},
    "colab_type": "code",
    "id": "rnX8ttNopd1G"
   },
   "outputs": [],
   "source": [
    "\n",
    "start_time = time.time()\n",
    "BEST_AGENTS=[]\n",
    "MAT_stat=[]\n",
    "for i in range(RUNS):\n",
    "    MAT=[] \n",
    "    mut=Fi\n",
    "    crossp=CRi\n",
    "    SOMA=0\n",
    "    SOMAf=0\n",
    "    \n",
    "    start_ite = time.time()\n",
    "    delta_time=(start_ite-start_time)/60\n",
    "    \n",
    "    \n",
    "    \n",
    "    pop = np.random.rand(NPAR, dim)\n",
    "    diff=np.zeros(PAR)\n",
    "    for ii in range(PAR):\n",
    "      diff[ii] = MAX[ii]-MIN[ii]\n",
    "    X = MIN + pop * diff\n",
    "    Xf = MIN + pop * diff\n",
    "    \n",
    "    DIo=1e99\n",
    "  \n",
    "    CRo=crossp;Fo=mut;\n",
    "    Fitness = np.asarray([Fun(ind) for ind in X])\n",
    "\n",
    "    XY,BEST_XY,BESTo,FOBESTo=AvaliaX(X,Fitness)\n",
    "    nrow,ncol=X.shape\n",
    "\n",
    "    QUANT=17;MAT_INDo=np.zeros((1,QUANT)); # quantos indices esta fazendo\n",
    "    MAT_INDo[0,5]=nrow  # VALOR NP\n",
    "    MAT_INDo[0,6]=Fo    # VALOR Fo   \n",
    "    MAT_INDo[0,7]=CRo   # VALOR CRo\n",
    "  \n",
    "    MAT_INDo=GeraIndices(X,BESTo,FOBESTo,DIo,MAT_INDo,SOMA,TOTAL,syn0_F,\n",
    "                        syn1_F,X_max_F,X_min_F,syn0_CR,syn1_CR,X_max_CR,\n",
    "                        X_min_CR,Fc,fields,Fun)\n",
    "  \n",
    "    DIo=np.copy(MAT_INDo[0,0])\n",
    "    MAT_INDo[0,15]=Fo    # VALOR Fo   \n",
    "    MAT_INDo[0,16]=CRo   # VALOR CRo\n",
    "    #ind_crossp=ITE-1\n",
    "\n",
    "    for k in range(ITE):\n",
    "      X,BEST,FOBEST,XY,BEST_XY,SOMA= de_soma_Insight.de(MAX,MIN, mut, crossp,NPAR,its,Fun,X,SOMA,TOTAL)\n",
    "     \n",
    "\n",
    "      \n",
    "      MAT_IND=GeraIndices(X,BESTo,FOBESTo,DIo,MAT_INDo,SOMA,TOTAL,syn0_F,\n",
    "                          syn1_F,X_max_F,X_min_F,syn0_CR,syn1_CR,X_max_CR,\n",
    "                          X_min_CR,Fc,fields,Fun)\n",
    "    \n",
    "      BESTo=np.copy(BEST);FOBESTo=np.copy(FOBEST);\n",
    "      MAT.append(MAT_IND.ravel())\n",
    "    \n",
    "      MAT_INDo[0,6]=MAT_IND[0,15]   # VALOR Fo   \n",
    "      MAT_INDo[0,7]=MAT_IND[0,16]   # VALOR CRo\n",
    "      mut=MAT_IND[0,15]\n",
    "      crossp=MAT_IND[0,16]\n",
    "\n",
    "      Fitness = np.asarray([Fun(ind) for ind in X])\n",
    "      Maior=np.argmax(Fitness)\n",
    "      Menor=np.argmin(Fitness)\n",
    "\n",
    "    print('ite=',i,'total=50','time=',delta_time,'Fbest',FOBEST)  \n",
    "    BEST_AGENTS.append(BEST_XY)\n",
    "    MAT_stat.append(MAT)\n",
    "    #print(\"GlobalParam e Solucao:\", BEST,\"Funcao=\",FOBEST)\n",
    "    \n",
    "############################## Cálculo dos Parâmetros de Avaliação   \n",
    "TIME = (time.time() - start_time)/RUNS\n",
    "BEST_AGENTS=np.array(BEST_AGENTS)\n",
    "BEST_AGENTS_ST= BEST_AGENTS[BEST_AGENTS[:,-1].argsort()]\n",
    "BEST=BEST_AGENTS_ST[0]\n",
    "WORSE=BEST_AGENTS_ST[-1]\n",
    "MEAN=np.mean(BEST_AGENTS,axis=0)\n",
    "MAXFO=BEST_AGENTS[:,-1].max()\n",
    "MINFO=BEST_AGENTS[:,-1].min()\n",
    "STD=BEST_AGENTS[:,-1].std()"
   ]
  },
  {
   "cell_type": "code",
   "execution_count": null,
   "metadata": {
    "colab": {},
    "colab_type": "code",
    "id": "k3p9TGsx1OCu"
   },
   "outputs": [],
   "source": [
    "NOMES=['DIVERSIDADE (DI)',  'DI RELATIVO','FRAC Its',\n",
    "           'VELOC FOBJ','VELOC X','NP','Fo','CRo','fmin','fmax',\n",
    "           'AD_fmin','AD_fmax','DELTA FOBJ','DELTA VX','r_fitness',\n",
    "           'F','CR']\n",
    "# BEST_INDEX= BEST_AGENTS[BEST_AGENTS[:,-1].argmin()]  \n",
    "BEST_INDEX = np.argmin(BEST_AGENTS[:,-1])\n",
    "df=pd.DataFrame(MAT_stat[BEST_INDEX], columns=NOMES)\n",
    "\n"
   ]
  },
  {
   "cell_type": "code",
   "execution_count": null,
   "metadata": {
    "colab": {
     "base_uri": "https://localhost:8080/",
     "height": 728
    },
    "colab_type": "code",
    "id": "jIHiKR_t1xxs",
    "outputId": "965acc82-fe71-4b31-d51d-f75184681112"
   },
   "outputs": [],
   "source": [
    "pd.set_option('display.max_columns', 30)  \n",
    "print(df)"
   ]
  },
  {
   "cell_type": "code",
   "execution_count": null,
   "metadata": {},
   "outputs": [],
   "source": [
    "print(NPAR)"
   ]
  },
  {
   "cell_type": "code",
   "execution_count": null,
   "metadata": {
    "colab": {
     "base_uri": "https://localhost:8080/",
     "height": 300
    },
    "colab_type": "code",
    "id": "bx0ywpMtAAjw",
    "outputId": "d4945f8d-fff6-428f-e6cf-14fa5d974d2b"
   },
   "outputs": [],
   "source": [
    "plt.plot(df['FRAC Its'],df['CR'])\n",
    "plt.xlabel('Iteração/Total')\n",
    "plt.ylabel('CR')"
   ]
  },
  {
   "cell_type": "code",
   "execution_count": null,
   "metadata": {
    "colab": {
     "base_uri": "https://localhost:8080/",
     "height": 295
    },
    "colab_type": "code",
    "id": "BvPFvbDvteDC",
    "outputId": "8a423d31-63b8-4fbb-9b8e-28e7c5ea2285"
   },
   "outputs": [],
   "source": [
    "\n",
    "fig, ax = plt.subplots()\n",
    "ax.plot(df['FRAC Its'],df['F'],label='F')\n",
    "ax.set_xlabel('Iteração/Total')\n",
    "ax.set_ylabel('Parâmetros')\n",
    "ax.plot(df['FRAC Its'],df['CR'],'-r', label='CR')\n",
    "nome=Fun.__name__+'  M=Diversidade'+ '  D='+str(dim)\n",
    "ax.set_title(nome)\n",
    "leg = ax.legend()\n"
   ]
  },
  {
   "cell_type": "code",
   "execution_count": null,
   "metadata": {
    "colab": {
     "base_uri": "https://localhost:8080/",
     "height": 313
    },
    "colab_type": "code",
    "id": "htooaGpDia_0",
    "outputId": "2e9b85c2-4764-4d9e-934f-c2bd84b216d1"
   },
   "outputs": [],
   "source": [
    "f, axarr = plt.subplots(2, sharex=True)\n",
    "axarr[0].plot(df['FRAC Its'],df['F'])\n",
    "axarr[0].set_ylabel('F')\n",
    "axarr[1].plot(df['FRAC Its'],df['CR'])\n",
    "axarr[1].set_ylabel('CR')\n",
    "axarr[1].set_xlabel('Iteração/Total')\n",
    "nome=Fun.__name__+'_Diversidade_'+ 'D='+str(dim)\n",
    "axarr[0].set_title(nome)\n"
   ]
  },
  {
   "cell_type": "code",
   "execution_count": null,
   "metadata": {
    "colab": {
     "base_uri": "https://localhost:8080/",
     "height": 301
    },
    "colab_type": "code",
    "id": "lNSN5X-wskcx",
    "outputId": "599f75fc-765f-4739-e1aa-80df2aec5f27"
   },
   "outputs": [],
   "source": [
    "nome='_ANN_Div3x4_Fo-'+str(Fi)+'_CRo-'+str(CRi)+'_D-'+str(dim)+'_Interv-'+str(ITE)\n",
    "print('DE_POP_VAR_F_CR','TOTAL=',TOTAL,'Iterações=',ITE*its,'Dim=', PAR,\"Min/Max=\",MIN[0],\"/\",MAX[0],'_',Fun.__name__)\n",
    "print(nome, '\\n')\n",
    "print('MÉDIA: ',MEAN[-1])\n",
    "print('MIN __:',MINFO)\n",
    "print('MAX__: ',MAXFO)\n",
    "print('STD __:',STD)\n",
    "print(\"Tempo Médio= %.3f segundos ---\" % (TIME))\n",
    "print(RUNS,'Rodadas') \n",
    "print()\n",
    "print('BEST: ',BEST)\n"
   ]
  },
  {
   "cell_type": "code",
   "execution_count": null,
   "metadata": {
    "colab": {},
    "colab_type": "code",
    "id": "aPPrDD5-_X6F"
   },
   "outputs": [],
   "source": [
    "print(pd.DataFrame(XY))"
   ]
  },
  {
   "cell_type": "code",
   "execution_count": null,
   "metadata": {},
   "outputs": [],
   "source": [
    "print(X)"
   ]
  },
  {
   "cell_type": "code",
   "execution_count": null,
   "metadata": {},
   "outputs": [],
   "source": []
  }
 ],
 "metadata": {
  "accelerator": "GPU",
  "colab": {
   "collapsed_sections": [],
   "name": "Schwefel_222_jun_25_2020.ipynb",
   "provenance": []
  },
  "kernelspec": {
   "display_name": "Python 3",
   "language": "python",
   "name": "python3"
  },
  "language_info": {
   "codemirror_mode": {
    "name": "ipython",
    "version": 3
   },
   "file_extension": ".py",
   "mimetype": "text/x-python",
   "name": "python",
   "nbconvert_exporter": "python",
   "pygments_lexer": "ipython3",
   "version": "3.6.1"
  }
 },
 "nbformat": 4,
 "nbformat_minor": 1
}
