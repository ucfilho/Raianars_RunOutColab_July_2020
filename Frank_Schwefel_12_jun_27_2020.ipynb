{
 "cells": [
  {
   "cell_type": "code",
   "execution_count": 1,
   "metadata": {
    "colab": {},
    "colab_type": "code",
    "id": "cG5nOUQ9Eucw"
   },
   "outputs": [],
   "source": [
    "# Schwefel_12\n",
    "# In the paper Ngen=5000  NPAR=100 dim=30\n",
    "# JADE: Adaptive Differential Evolution with Optional External Archive"
   ]
  },
  {
   "cell_type": "code",
   "execution_count": 2,
   "metadata": {},
   "outputs": [],
   "source": [
    "#  cd C:/Users/TREX/Desktop/Lockdown Paper Raiana/notebooks\n",
    "# jupyter notebook Frank_Schwefel_12_jun_27_2020.ipynb"
   ]
  },
  {
   "cell_type": "code",
   "execution_count": 3,
   "metadata": {
    "colab": {},
    "colab_type": "code",
    "id": "_E15mKFURR6O"
   },
   "outputs": [],
   "source": [
    "import Go2Ann\n",
    "import de_soma_Insight\n",
    "import de_bounds_matriz\n",
    "import Function\n",
    "import Go2MinMax\n",
    "from AvaliaX import AvaliaX\n",
    "from GeraIndices import GeraIndices\n",
    "\n",
    "############################### DADOS DE ENTRADA \n",
    "RUNS=50 #NÚMERO DE RODADAS\n",
    "Fc=0.1 # fator de correcao parametros da ANN\n",
    "its=1 #10 # quantas vezes vai usar o NPAR antes de alterar de novo\n",
    "ITE=5000 #10 # PONTOS quantas vezes vai alteral NPAR \n",
    "NPAR=100 # NUMBER OF PARTICLES\n",
    "mut=0.5\n",
    "crossp=0.5\n",
    "Fi=mut;CRi=crossp;# para impressão\n",
    "\n",
    "#TOTAL=ITE\n",
    "\n",
    "############################### Função\n",
    "dim=30\n",
    "\n",
    "#fchoice='Rastrigin' #fchoice='Michalewicz' #fchoice='Schwefel'\n",
    "fchoice='Schwefel_12'\n",
    "Fun=Function.Schwefel_12\n",
    "\n",
    "MIN,MAX=Go2MinMax.Intervalo(dim,fchoice)\n",
    "PAR=len(MAX) #NUM DE PARAMETROS A SER OTIMIZADOS\n"
   ]
  },
  {
   "cell_type": "code",
   "execution_count": 4,
   "metadata": {
    "colab": {},
    "colab_type": "code",
    "id": "v1OxgXboBKoG"
   },
   "outputs": [],
   "source": [
    "import time\n",
    "import matplotlib.pyplot as plt\n",
    "import numpy as np\n",
    "from random import randint\n",
    "from scipy import optimize\n",
    "import pandas as pd\n",
    "from sklearn.metrics import confusion_matrix"
   ]
  },
  {
   "cell_type": "code",
   "execution_count": 5,
   "metadata": {
    "colab": {},
    "colab_type": "code",
    "id": "QiQLYOoNoyCw"
   },
   "outputs": [],
   "source": [
    "ANN_F=pd.read_csv('ANN_INSIGHT_Valor_F.csv')"
   ]
  },
  {
   "cell_type": "code",
   "execution_count": 6,
   "metadata": {
    "colab": {},
    "colab_type": "code",
    "id": "uHtW2amaDzFv"
   },
   "outputs": [],
   "source": [
    "ANN_CR=pd.read_csv('ANN_INSIGHT_CR.csv')"
   ]
  },
  {
   "cell_type": "code",
   "execution_count": 7,
   "metadata": {
    "colab": {},
    "colab_type": "code",
    "id": "EH6h_vke2yu1"
   },
   "outputs": [],
   "source": [
    "syn0_F,syn1_F,X_max_F,X_min_F=Go2Ann.GetMatriz(ANN_F)"
   ]
  },
  {
   "cell_type": "code",
   "execution_count": 8,
   "metadata": {
    "colab": {},
    "colab_type": "code",
    "id": "WW_3ZWJXD60i"
   },
   "outputs": [],
   "source": [
    "syn0_CR,syn1_CR,X_max_CR,X_min_CR=Go2Ann.GetMatriz(ANN_CR)"
   ]
  },
  {
   "cell_type": "code",
   "execution_count": 9,
   "metadata": {
    "colab": {},
    "colab_type": "code",
    "id": "b4gwBvVTyaXh"
   },
   "outputs": [],
   "source": [
    "ANN_CR=pd.read_csv('ANN_INSIGHT_CR.csv')"
   ]
  },
  {
   "cell_type": "code",
   "execution_count": 10,
   "metadata": {
    "colab": {},
    "colab_type": "code",
    "id": "6jL8MxpHvk-Y"
   },
   "outputs": [],
   "source": [
    "fields = ['DI RELATIVO','FRAC Its','Fo','CRo']"
   ]
  },
  {
   "cell_type": "code",
   "execution_count": 11,
   "metadata": {
    "colab": {},
    "colab_type": "code",
    "id": "Mb3LmbSmj9v7"
   },
   "outputs": [],
   "source": [
    "#TOTAL=7*dim*its*ITE\n",
    "TOTAL=10*dim*its*ITE\n",
    "TOTAL=int(TOTAL/2)   # CONFERIR SE ESTE EH O MELHOR LUGAR\n",
    "\n",
    "\n",
    "\n",
    "dimensions=len(MAX)\n",
    "start_time = time.time() #INICIALIZA CONTAGEM DO TEMPO\n",
    "\n",
    "MAX_P=np.zeros(ITE) # ATENCAO para variar F e Cr MAX_P passa a ser 3 vezes maior\n",
    "MIN_P=np.zeros(ITE) # ATENCAO para variar F e Cr MIN_P passa a ser 3 vezes maior\n",
    "\n",
    "for i in range(dim):\n",
    "  MAX_P[i]=MAX[i] \n",
    "  MIN_P[i]=MIN[i]\n",
    "\n",
    "rodadas=1\n",
    "for i in range(rodadas):\n",
    "  SOMA=0\n",
    "  pop = np.random.rand(NPAR, dimensions)\n",
    "  diff=np.zeros(PAR)\n",
    "  for ii in range(PAR):\n",
    "    diff[ii] = MAX[ii]-MIN[ii]\n",
    "  X = MIN + pop * diff\n",
    "    \n",
    "  PONTOS=ITE # DIVISOES DA POPULACAO\n",
    "\n",
    " \n",
    "\n",
    "\n"
   ]
  },
  {
   "cell_type": "code",
   "execution_count": 12,
   "metadata": {
    "colab": {},
    "colab_type": "code",
    "id": "rnX8ttNopd1G"
   },
   "outputs": [
    {
     "name": "stdout",
     "output_type": "stream",
     "text": [
      "ite= 0 total=50 time= 1.6669432322184246e-05\n",
      "rodada= 0 total= 50 Fobj= 11905.9616031\n",
      "ite= 1 total=50 time= 15.129768296082814\n",
      "rodada= 1 total= 50 Fobj= 9866.72479394\n",
      "ite= 2 total=50 time= 31.023374279340107\n",
      "rodada= 2 total= 50 Fobj= 11734.4184056\n",
      "ite= 3 total=50 time= 45.86528077920278\n",
      "rodada= 3 total= 50 Fobj= 10804.7636334\n",
      "ite= 4 total=50 time= 60.40036923885346\n",
      "rodada= 4 total= 50 Fobj= 11476.0955361\n",
      "ite= 5 total=50 time= 74.05759311119715\n",
      "rodada= 5 total= 50 Fobj= 11518.0961503\n",
      "ite= 6 total=50 time= 87.04499573310217\n",
      "rodada= 6 total= 50 Fobj= 10924.7005324\n",
      "ite= 7 total=50 time= 99.22729262510936\n",
      "rodada= 7 total= 50 Fobj= 9012.39623224\n",
      "ite= 8 total=50 time= 110.78136787017186\n",
      "rodada= 8 total= 50 Fobj= 10661.5774292\n",
      "ite= 9 total=50 time= 122.73150908549627\n",
      "rodada= 9 total= 50 Fobj= 13235.8253516\n",
      "ite= 10 total=50 time= 135.26944929361343\n",
      "rodada= 10 total= 50 Fobj= 13024.0869415\n",
      "ite= 11 total=50 time= 148.46947606404623\n",
      "rodada= 11 total= 50 Fobj= 12523.972585\n",
      "ite= 12 total=50 time= 161.43789366483688\n",
      "rodada= 12 total= 50 Fobj= 12936.0229989\n",
      "ite= 13 total=50 time= 174.15097905397414\n",
      "rodada= 13 total= 50 Fobj= 10353.0387313\n",
      "ite= 14 total=50 time= 187.07293990453084\n",
      "rodada= 14 total= 50 Fobj= 10969.9923489\n",
      "ite= 15 total=50 time= 200.35742271343867\n",
      "rodada= 15 total= 50 Fobj= 12793.9348161\n",
      "ite= 16 total=50 time= 213.5116505543391\n",
      "rodada= 16 total= 50 Fobj= 12284.2379286\n",
      "ite= 17 total=50 time= 226.4700255235036\n",
      "rodada= 17 total= 50 Fobj= 10024.5454481\n",
      "ite= 18 total=50 time= 239.51603871981303\n",
      "rodada= 18 total= 50 Fobj= 9675.11672485\n",
      "ite= 19 total=50 time= 252.5358947436015\n",
      "rodada= 19 total= 50 Fobj= 11437.4602344\n",
      "ite= 20 total=50 time= 265.57758259773254\n",
      "rodada= 20 total= 50 Fobj= 12960.6446737\n",
      "ite= 21 total=50 time= 277.6148581703504\n",
      "rodada= 21 total= 50 Fobj= 10365.2130981\n",
      "ite= 22 total=50 time= 289.5837387681007\n",
      "rodada= 22 total= 50 Fobj= 8830.99187087\n",
      "ite= 23 total=50 time= 301.38523912827173\n",
      "rodada= 23 total= 50 Fobj= 12213.4331582\n",
      "ite= 24 total=50 time= 313.27151762247087\n",
      "rodada= 24 total= 50 Fobj= 11884.6396357\n",
      "ite= 25 total=50 time= 325.3370609243711\n",
      "rodada= 25 total= 50 Fobj= 11313.2059807\n",
      "ite= 26 total=50 time= 337.24993201494215\n",
      "rodada= 26 total= 50 Fobj= 12747.1519372\n",
      "ite= 27 total=50 time= 349.3463307301203\n",
      "rodada= 27 total= 50 Fobj= 10477.3119807\n",
      "ite= 28 total=50 time= 361.26810626188916\n",
      "rodada= 28 total= 50 Fobj= 5867.02436792\n",
      "ite= 29 total=50 time= 373.16704306999844\n",
      "rodada= 29 total= 50 Fobj= 8041.70879749\n",
      "ite= 30 total=50 time= 385.022576880455\n",
      "rodada= 30 total= 50 Fobj= 11395.0311987\n",
      "ite= 31 total=50 time= 396.9259857535362\n",
      "rodada= 31 total= 50 Fobj= 11946.8082012\n",
      "ite= 32 total=50 time= 409.3432316939036\n",
      "rodada= 32 total= 50 Fobj= 7017.35091425\n",
      "ite= 33 total=50 time= 421.1791615287463\n",
      "rodada= 33 total= 50 Fobj= 12159.4137245\n",
      "ite= 34 total=50 time= 432.97467797994614\n",
      "rodada= 34 total= 50 Fobj= 9031.61013338\n",
      "ite= 35 total=50 time= 444.72694697380064\n",
      "rodada= 35 total= 50 Fobj= 14514.7778038\n",
      "ite= 36 total=50 time= 456.39287796020506\n",
      "rodada= 36 total= 50 Fobj= 8896.74626558\n",
      "ite= 37 total=50 time= 467.7616048296293\n",
      "rodada= 37 total= 50 Fobj= 10209.7864923\n",
      "ite= 38 total=50 time= 479.27061975797017\n",
      "rodada= 38 total= 50 Fobj= 8000.53267515\n",
      "ite= 39 total=50 time= 490.6456437468529\n",
      "rodada= 39 total= 50 Fobj= 9613.84436153\n",
      "ite= 40 total=50 time= 502.0308921575546\n",
      "rodada= 40 total= 50 Fobj= 11538.4438373\n",
      "ite= 41 total=50 time= 513.4402321855227\n",
      "rodada= 41 total= 50 Fobj= 8830.4680119\n",
      "ite= 42 total=50 time= 524.8551713347435\n",
      "rodada= 42 total= 50 Fobj= 9233.92551196\n",
      "ite= 43 total=50 time= 536.2210822780927\n",
      "rodada= 43 total= 50 Fobj= 10903.5556326\n",
      "ite= 44 total=50 time= 547.5802169561387\n",
      "rodada= 44 total= 50 Fobj= 9405.94133409\n",
      "ite= 45 total=50 time= 558.9274220387141\n",
      "rodada= 45 total= 50 Fobj= 10683.6547891\n",
      "ite= 46 total=50 time= 570.3562253197034\n",
      "rodada= 46 total= 50 Fobj= 12473.5424405\n",
      "ite= 47 total=50 time= 581.8709128379821\n",
      "rodada= 47 total= 50 Fobj= 12873.7425589\n",
      "ite= 48 total=50 time= 593.2499286651612\n",
      "rodada= 48 total= 50 Fobj= 14562.3969191\n",
      "ite= 49 total=50 time= 604.6192468802134\n",
      "rodada= 49 total= 50 Fobj= 9851.08287421\n"
     ]
    }
   ],
   "source": [
    "\n",
    "start_time = time.time()\n",
    "BEST_AGENTS=[]\n",
    "MAT_stat=[]\n",
    "for i in range(RUNS):\n",
    "    MAT=[] \n",
    "    mut=Fi\n",
    "    crossp=CRi\n",
    "    SOMA=0\n",
    "    SOMAf=0\n",
    "    \n",
    "    start_ite = time.time()\n",
    "    delta_time=(start_ite-start_time)/60\n",
    "    \n",
    "    pop = np.random.rand(NPAR, dim)\n",
    "    diff=np.zeros(PAR)\n",
    "    for ii in range(PAR):\n",
    "      diff[ii] = MAX[ii]-MIN[ii]\n",
    "    X = MIN + pop * diff\n",
    "    Xf = MIN + pop * diff\n",
    "    \n",
    "    DIo=1e99\n",
    "  \n",
    "    CRo=crossp;Fo=mut;\n",
    "    Fitness = np.asarray([Fun(ind) for ind in X])\n",
    "\n",
    "    XY,BEST_XY,BESTo,FOBESTo=AvaliaX(X,Fitness)\n",
    "    nrow,ncol=X.shape\n",
    "\n",
    "    QUANT=17;MAT_INDo=np.zeros((1,QUANT)); # quantos indices esta fazendo\n",
    "    MAT_INDo[0,5]=nrow  # VALOR NP\n",
    "    MAT_INDo[0,6]=Fo    # VALOR Fo   \n",
    "    MAT_INDo[0,7]=CRo   # VALOR CRo\n",
    "  \n",
    "    MAT_INDo=GeraIndices(X,BESTo,FOBESTo,DIo,MAT_INDo,SOMA,TOTAL,syn0_F,\n",
    "                        syn1_F,X_max_F,X_min_F,syn0_CR,syn1_CR,X_max_CR,\n",
    "                        X_min_CR,Fc,fields,Fun)\n",
    "  \n",
    "    DIo=np.copy(MAT_INDo[0,0])\n",
    "    MAT_INDo[0,15]=Fo    # VALOR Fo   \n",
    "    MAT_INDo[0,16]=CRo   # VALOR CRo\n",
    "    #ind_crossp=ITE-1\n",
    "\n",
    "    \n",
    "    for k in range(ITE):\n",
    "      X,BEST,FOBEST,XY,BEST_XY,SOMA= de_soma_Insight.de(MAX,MIN, mut, crossp,NPAR,its,Fun,X,SOMA,TOTAL)\n",
    "     \n",
    "\n",
    "      \n",
    "      MAT_IND=GeraIndices(X,BESTo,FOBESTo,DIo,MAT_INDo,SOMA,TOTAL,syn0_F,\n",
    "                          syn1_F,X_max_F,X_min_F,syn0_CR,syn1_CR,X_max_CR,\n",
    "                          X_min_CR,Fc,fields,Fun)\n",
    "    \n",
    "      BESTo=np.copy(BEST);FOBESTo=np.copy(FOBEST);\n",
    "      MAT.append(MAT_IND.ravel())\n",
    "    \n",
    "      MAT_INDo[0,6]=MAT_IND[0,15]   # VALOR Fo   \n",
    "      MAT_INDo[0,7]=MAT_IND[0,16]   # VALOR CRo\n",
    "      mut=MAT_IND[0,15]\n",
    "      crossp=MAT_IND[0,16]\n",
    "\n",
    "      Fitness = np.asarray([Fun(ind) for ind in X])\n",
    "      Maior=np.argmax(Fitness)\n",
    "      Menor=np.argmin(Fitness)\n",
    "\n",
    "    print('rodada=',i,'total=',RUNS,'Fobj=',FOBEST)  \n",
    "    BEST_AGENTS.append(BEST_XY)\n",
    "    MAT_stat.append(MAT)\n",
    "    #print(\"GlobalParam e Solucao:\", BEST,\"Funcao=\",FOBEST)\n",
    "    \n",
    "############################## Cálculo dos Parâmetros de Avaliação   \n",
    "TIME = (time.time() - start_time)/RUNS\n",
    "BEST_AGENTS=np.array(BEST_AGENTS)\n",
    "BEST_AGENTS_ST= BEST_AGENTS[BEST_AGENTS[:,-1].argsort()]\n",
    "BEST=BEST_AGENTS_ST[0]\n",
    "WORSE=BEST_AGENTS_ST[-1]\n",
    "MEAN=np.mean(BEST_AGENTS,axis=0)\n",
    "MAXFO=BEST_AGENTS[:,-1].max()\n",
    "MINFO=BEST_AGENTS[:,-1].min()\n",
    "STD=BEST_AGENTS[:,-1].std()"
   ]
  },
  {
   "cell_type": "code",
   "execution_count": 13,
   "metadata": {
    "colab": {},
    "colab_type": "code",
    "id": "k3p9TGsx1OCu"
   },
   "outputs": [],
   "source": [
    "NOMES=['DIVERSIDADE (DI)',  'DI RELATIVO','FRAC Its',\n",
    "           'VELOC FOBJ','VELOC X','NP','Fo','CRo','fmin','fmax',\n",
    "           'AD_fmin','AD_fmax','DELTA FOBJ','DELTA VX','r_fitness',\n",
    "           'F','CR']\n",
    "# BEST_INDEX= BEST_AGENTS[BEST_AGENTS[:,-1].argmin()]  \n",
    "BEST_INDEX = np.argmin(BEST_AGENTS[:,-1])\n",
    "df=pd.DataFrame(MAT_stat[BEST_INDEX], columns=NOMES)\n",
    "\n"
   ]
  },
  {
   "cell_type": "code",
   "execution_count": 14,
   "metadata": {
    "colab": {
     "base_uri": "https://localhost:8080/",
     "height": 728
    },
    "colab_type": "code",
    "id": "jIHiKR_t1xxs",
    "outputId": "965acc82-fe71-4b31-d51d-f75184681112"
   },
   "outputs": [
    {
     "name": "stdout",
     "output_type": "stream",
     "text": [
      "      DIVERSIDADE (DI)  DI RELATIVO  FRAC Its  VELOC FOBJ  VELOC X     NP  \\\n",
      "0           318.969804     1.012752  0.000133         1.0      2.0  100.0   \n",
      "1           317.177733     1.007062  0.000267         0.0      0.0  100.0   \n",
      "2           318.187824     1.010269  0.000400         0.0      0.0  100.0   \n",
      "3           317.960548     1.009547  0.000533         0.0      0.0  100.0   \n",
      "4           318.427128     1.011029  0.000667         0.0      0.0  100.0   \n",
      "5           318.062916     1.009872  0.000800         0.0      0.0  100.0   \n",
      "6           317.268633     1.007351  0.000933         0.0      0.0  100.0   \n",
      "7           316.124671     1.003718  0.001067         0.0      0.0  100.0   \n",
      "8           315.930887     1.003103  0.001200         0.0      0.0  100.0   \n",
      "9           316.255886     1.004135  0.001333         0.0      0.0  100.0   \n",
      "10          315.723044     1.002443  0.001467         1.0      2.0  100.0   \n",
      "11          315.496739     1.001725  0.001600         0.0      0.0  100.0   \n",
      "12          314.894069     0.999811  0.001733         0.0      0.0  100.0   \n",
      "13          313.917458     0.996710  0.001867         0.0      0.0  100.0   \n",
      "14          313.087944     0.994077  0.002000         0.0      0.0  100.0   \n",
      "15          312.552779     0.992377  0.002133         0.0      0.0  100.0   \n",
      "16          312.319621     0.991637  0.002267         0.0      0.0  100.0   \n",
      "17          311.081995     0.987708  0.002400         1.0      2.0  100.0   \n",
      "18          310.789009     0.986777  0.002533         0.0      0.0  100.0   \n",
      "19          310.602938     0.986187  0.002667         0.0      0.0  100.0   \n",
      "20          310.887297     0.987089  0.002800         0.0      0.0  100.0   \n",
      "21          310.809419     0.986842  0.002933         0.0      0.0  100.0   \n",
      "22          310.435187     0.985654  0.003067         0.0      0.0  100.0   \n",
      "23          310.529807     0.985954  0.003200         1.0      2.0  100.0   \n",
      "24          310.688787     0.986459  0.003333         0.0      0.0  100.0   \n",
      "25          310.247182     0.985057  0.003467         1.0      2.0  100.0   \n",
      "26          309.535396     0.982797  0.003600         0.0      0.0  100.0   \n",
      "27          309.186066     0.981688  0.003733         0.0      0.0  100.0   \n",
      "28          308.890283     0.980749  0.003867         0.0      0.0  100.0   \n",
      "29          309.611229     0.983038  0.004000         0.0      0.0  100.0   \n",
      "...                ...          ...       ...         ...      ...    ...   \n",
      "4970        218.100035     0.692483  0.662800         0.0      0.0  100.0   \n",
      "4971        218.091333     0.692456  0.662933         0.0      0.0  100.0   \n",
      "4972        218.091333     0.692456  0.663067         0.0      0.0  100.0   \n",
      "4973        218.086339     0.692440  0.663200         0.0      0.0  100.0   \n",
      "4974        218.084307     0.692433  0.663333         0.0      0.0  100.0   \n",
      "4975        218.044145     0.692306  0.663467         0.0      0.0  100.0   \n",
      "4976        218.042851     0.692302  0.663600         0.0      0.0  100.0   \n",
      "4977        218.042851     0.692302  0.663733         0.0      0.0  100.0   \n",
      "4978        218.043022     0.692302  0.663867         0.0      0.0  100.0   \n",
      "4979        218.041789     0.692298  0.664000         0.0      0.0  100.0   \n",
      "4980        218.041697     0.692298  0.664133         0.0      0.0  100.0   \n",
      "4981        218.041876     0.692299  0.664267         0.0      0.0  100.0   \n",
      "4982        218.029243     0.692258  0.664400         0.0      0.0  100.0   \n",
      "4983        218.029130     0.692258  0.664533         0.0      0.0  100.0   \n",
      "4984        218.011949     0.692204  0.664667         0.0      0.0  100.0   \n",
      "4985        217.997006     0.692156  0.664800         0.0      0.0  100.0   \n",
      "4986        217.997017     0.692156  0.664933         0.0      0.0  100.0   \n",
      "4987        217.999049     0.692163  0.665067         0.0      0.0  100.0   \n",
      "4988        217.998697     0.692161  0.665200         0.0      0.0  100.0   \n",
      "4989        217.998547     0.692161  0.665333         1.0      2.0  100.0   \n",
      "4990        217.995153     0.692150  0.665467         0.0      0.0  100.0   \n",
      "4991        217.995153     0.692150  0.665600         0.0      0.0  100.0   \n",
      "4992        217.986804     0.692124  0.665733         0.0      0.0  100.0   \n",
      "4993        217.986652     0.692123  0.665867         0.0      0.0  100.0   \n",
      "4994        217.983462     0.692113  0.666000         0.0      0.0  100.0   \n",
      "4995        217.977505     0.692094  0.666133         1.0      2.0  100.0   \n",
      "4996        217.967022     0.692061  0.666267         0.0      0.0  100.0   \n",
      "4997        217.948300     0.692001  0.666400         0.0      0.0  100.0   \n",
      "4998        217.949573     0.692005  0.666533         0.0      0.0  100.0   \n",
      "4999        217.940782     0.691978  0.666667         0.0      0.0  100.0   \n",
      "\n",
      "            Fo           CRo          fmin          fmax  AD_fmin  AD_fmax  \\\n",
      "0     0.500000  5.000000e-01  82602.818216  1.072234e+07      1.0      1.0   \n",
      "1     0.246812  3.312080e-01  82602.818216  3.493902e+06      1.0      1.0   \n",
      "2     0.433228  2.200257e-01  82602.818216  2.950815e+06      1.0      1.0   \n",
      "3     0.214390  1.459306e-01  82602.818216  2.950815e+06      1.0      1.0   \n",
      "4     0.376717  2.195926e-01  82602.818216  2.350302e+06      1.0      1.0   \n",
      "5     0.662371  1.455878e-01  82602.818216  2.350302e+06      1.0      1.0   \n",
      "6     0.327916  9.657941e-02  82602.818216  1.996159e+06      1.0      1.0   \n",
      "7     0.162753  1.452241e-01  82602.818216  1.414609e+06      1.0      1.0   \n",
      "8     0.285271  9.663604e-02  82602.818216  1.414609e+06      1.0      1.0   \n",
      "9     0.499889  1.451040e-01  82602.818216  1.414609e+06      1.0      1.0   \n",
      "10    0.248911  9.653600e-02  71161.147624  1.403519e+06      1.0      1.0   \n",
      "11    0.436050  1.449219e-01  71161.147624  1.115133e+06      1.0      1.0   \n",
      "12    0.217649  9.653130e-02  71161.147624  6.645167e+05      1.0      1.0   \n",
      "13    0.380855  1.447878e-01  71161.147624  6.645167e+05      1.0      1.0   \n",
      "14    0.191054  9.668399e-02  71161.147624  4.227412e+05      1.0      1.0   \n",
      "15    0.333495  6.464689e-02  71161.147624  3.835170e+05      1.0      1.0   \n",
      "16    0.168019  9.672395e-02  71161.147624  3.835170e+05      1.0      1.0   \n",
      "17    0.292979  6.475227e-02  69006.318996  3.835170e+05      1.0      1.0   \n",
      "18    0.148290  9.673042e-02  69006.318996  3.437067e+05      1.0      1.0   \n",
      "19    0.258037  6.491329e-02  69006.318996  3.437067e+05      1.0      1.0   \n",
      "20    0.448892  9.692160e-02  69006.318996  3.437067e+05      1.0      1.0   \n",
      "21    0.227344  6.503150e-02  69006.318996  3.437067e+05      1.0      1.0   \n",
      "22    0.395608  9.711942e-02  69006.318996  3.437067e+05      1.0      1.0   \n",
      "23    0.200642  6.521071e-02  68733.013976  3.437067e+05      1.0      1.0   \n",
      "24    0.349009  9.735809e-02  68733.013976  3.437067e+05      1.0      1.0   \n",
      "25    0.176868  1.453780e-01  62929.495360  3.437067e+05      1.0      1.0   \n",
      "26    0.307536  9.764278e-02  62929.495360  3.437067e+05      1.0      1.0   \n",
      "27    0.156413  1.456243e-01  62929.495360  3.437067e+05      1.0      1.0   \n",
      "28    0.271575  9.797177e-02  62929.495360  3.437067e+05      1.0      1.0   \n",
      "29    0.471335  1.460146e-01  62929.495360  3.437067e+05      1.0      1.0   \n",
      "...        ...           ...           ...           ...      ...      ...   \n",
      "4970  0.195974  1.272729e-58   5881.811491  4.272492e+04      1.0      1.0   \n",
      "4971  0.297756  1.493065e-58   5881.811491  4.272492e+04      1.0      1.0   \n",
      "4972  0.194664  1.751535e-58   5881.811491  4.272492e+04      1.0      1.0   \n",
      "4973  0.295762  2.054750e-58   5881.811491  4.272492e+04      1.0      1.0   \n",
      "4974  0.193363  2.410448e-58   5881.811491  4.272492e+04      1.0      1.0   \n",
      "4975  0.293782  2.827717e-58   5881.811491  4.272492e+04      1.0      1.0   \n",
      "4976  0.192088  3.317128e-58   5881.811491  4.272492e+04      1.0      1.0   \n",
      "4977  0.291825  3.891241e-58   5881.811491  4.272492e+04      1.0      1.0   \n",
      "4978  0.190810  4.564719e-58   5881.811491  4.272492e+04      1.0      1.0   \n",
      "4979  0.289883  5.354760e-58   5881.811491  4.272492e+04      1.0      1.0   \n",
      "4980  0.189541  6.281533e-58   5881.811491  4.272492e+04      1.0      1.0   \n",
      "4981  0.287954  7.368706e-58   5881.811491  4.272492e+04      1.0      1.0   \n",
      "4982  0.188279  8.644042e-58   5881.811491  4.272492e+04      1.0      1.0   \n",
      "4983  0.286033  6.649405e-58   5881.811491  4.272492e+04      1.0      1.0   \n",
      "4984  0.187028  7.800181e-58   5881.811491  4.272492e+04      1.0      1.0   \n",
      "4985  0.284125  6.000410e-58   5881.811491  4.272492e+04      1.0      1.0   \n",
      "4986  0.185795  7.038715e-58   5881.811491  4.272492e+04      1.0      1.0   \n",
      "4987  0.282245  5.414752e-58   5881.811491  4.272492e+04      1.0      1.0   \n",
      "4988  0.184565  6.351724e-58   5881.811491  4.272492e+04      1.0      1.0   \n",
      "4989  0.280377  4.886251e-58   5875.080707  4.272492e+04      1.0      1.0   \n",
      "4990  0.183344  5.731770e-58   5875.080707  4.272492e+04      1.0      1.0   \n",
      "4991  0.278520  4.409354e-58   5875.080707  4.272492e+04      1.0      1.0   \n",
      "4992  0.182131  5.172338e-58   5875.080707  4.272492e+04      1.0      1.0   \n",
      "4993  0.276674  3.979039e-58   5875.080707  4.272492e+04      1.0      1.0   \n",
      "4994  0.180928  4.667535e-58   5875.080707  4.272492e+04      1.0      1.0   \n",
      "4995  0.274845  3.590715e-58   5867.024368  4.272492e+04      1.0      1.0   \n",
      "4996  0.179736  4.211993e-58   5867.024368  4.269049e+04      1.0      1.0   \n",
      "4997  0.273027  3.240341e-58   5867.024368  4.269049e+04      1.0      1.0   \n",
      "4998  0.178559  3.800921e-58   5867.024368  4.269049e+04      1.0      1.0   \n",
      "4999  0.271232  2.924168e-58   5867.024368  4.269049e+04      1.0      1.0   \n",
      "\n",
      "      DELTA FOBJ  DELTA VX  r_fitness         F            CR  \n",
      "0            0.0       0.0   0.992296  0.246812  3.312080e-01  \n",
      "1            0.0       0.0   0.976358  0.433228  2.200257e-01  \n",
      "2            0.0       0.0   0.972007  0.214390  1.459306e-01  \n",
      "3            0.0       0.0   0.972007  0.376717  2.195926e-01  \n",
      "4            0.0       0.0   0.964854  0.662371  1.455878e-01  \n",
      "5            0.0       0.0   0.964854  0.327916  9.657941e-02  \n",
      "6            0.0       0.0   0.958619  0.162753  1.452241e-01  \n",
      "7            0.0       0.0   0.941607  0.285271  9.663604e-02  \n",
      "8            0.0       0.0   0.941607  0.499889  1.451040e-01  \n",
      "9            0.0       0.0   0.941607  0.248911  9.653600e-02  \n",
      "10           0.0       0.0   0.949298  0.436050  1.449219e-01  \n",
      "11           0.0       0.0   0.936186  0.217649  9.653130e-02  \n",
      "12           0.0       0.0   0.892913  0.380855  1.447878e-01  \n",
      "13           0.0       0.0   0.892913  0.191054  9.668399e-02  \n",
      "14           0.0       0.0   0.831667  0.333495  6.464689e-02  \n",
      "15           0.0       0.0   0.814451  0.168019  9.672395e-02  \n",
      "16           0.0       0.0   0.814451  0.292979  6.475227e-02  \n",
      "17           0.0       0.0   0.820070  0.148290  9.673042e-02  \n",
      "18           0.0       0.0   0.799229  0.258037  6.491329e-02  \n",
      "19           0.0       0.0   0.799229  0.448892  9.692160e-02  \n",
      "20           0.0       0.0   0.799229  0.227344  6.503150e-02  \n",
      "21           0.0       0.0   0.799229  0.395608  9.711942e-02  \n",
      "22           0.0       0.0   0.799229  0.200642  6.521071e-02  \n",
      "23           0.0       0.0   0.800024  0.349009  9.735809e-02  \n",
      "24           0.0       0.0   0.800024  0.176868  1.453780e-01  \n",
      "25           0.0       0.0   0.816909  0.307536  9.764278e-02  \n",
      "26           0.0       0.0   0.816909  0.156413  1.456243e-01  \n",
      "27           0.0       0.0   0.816909  0.271575  9.797177e-02  \n",
      "28           0.0       0.0   0.816909  0.471335  1.460146e-01  \n",
      "29           0.0       0.0   0.816909  0.239665  9.816865e-02  \n",
      "...          ...       ...        ...       ...           ...  \n",
      "4970         0.0       0.0   0.862333  0.297756  1.493065e-58  \n",
      "4971         0.0       0.0   0.862333  0.194664  1.751535e-58  \n",
      "4972         0.0       0.0   0.862333  0.295762  2.054750e-58  \n",
      "4973         0.0       0.0   0.862333  0.193363  2.410448e-58  \n",
      "4974         0.0       0.0   0.862333  0.293782  2.827717e-58  \n",
      "4975         0.0       0.0   0.862333  0.192088  3.317128e-58  \n",
      "4976         0.0       0.0   0.862333  0.291825  3.891241e-58  \n",
      "4977         0.0       0.0   0.862333  0.190810  4.564719e-58  \n",
      "4978         0.0       0.0   0.862333  0.289883  5.354760e-58  \n",
      "4979         0.0       0.0   0.862333  0.189541  6.281533e-58  \n",
      "4980         0.0       0.0   0.862333  0.287954  7.368706e-58  \n",
      "4981         0.0       0.0   0.862333  0.188279  8.644042e-58  \n",
      "4982         0.0       0.0   0.862333  0.286033  6.649405e-58  \n",
      "4983         0.0       0.0   0.862333  0.187028  7.800181e-58  \n",
      "4984         0.0       0.0   0.862333  0.284125  6.000410e-58  \n",
      "4985         0.0       0.0   0.862333  0.185795  7.038715e-58  \n",
      "4986         0.0       0.0   0.862333  0.282245  5.414752e-58  \n",
      "4987         0.0       0.0   0.862333  0.184565  6.351724e-58  \n",
      "4988         0.0       0.0   0.862333  0.280377  4.886251e-58  \n",
      "4989         0.0       0.0   0.862491  0.183344  5.731770e-58  \n",
      "4990         0.0       0.0   0.862491  0.278520  4.409354e-58  \n",
      "4991         0.0       0.0   0.862491  0.182131  5.172338e-58  \n",
      "4992         0.0       0.0   0.862491  0.276674  3.979039e-58  \n",
      "4993         0.0       0.0   0.862491  0.180928  4.667535e-58  \n",
      "4994         0.0       0.0   0.862491  0.274845  3.590715e-58  \n",
      "4995         0.0       0.0   0.862679  0.179736  4.211993e-58  \n",
      "4996         0.0       0.0   0.862568  0.273027  3.240341e-58  \n",
      "4997         0.0       0.0   0.862568  0.178559  3.800921e-58  \n",
      "4998         0.0       0.0   0.862568  0.271232  2.924168e-58  \n",
      "4999         0.0       0.0   0.862568  0.177389  3.430033e-58  \n",
      "\n",
      "[5000 rows x 17 columns]\n"
     ]
    }
   ],
   "source": [
    "pd.set_option('display.max_columns', 30)  \n",
    "print(df)"
   ]
  },
  {
   "cell_type": "code",
   "execution_count": 15,
   "metadata": {
    "colab": {
     "base_uri": "https://localhost:8080/",
     "height": 300
    },
    "colab_type": "code",
    "id": "bx0ywpMtAAjw",
    "outputId": "d4945f8d-fff6-428f-e6cf-14fa5d974d2b"
   },
   "outputs": [
    {
     "data": {
      "text/plain": [
       "<matplotlib.text.Text at 0x54d5faa208>"
      ]
     },
     "execution_count": 15,
     "metadata": {},
     "output_type": "execute_result"
    },
    {
     "data": {
      "image/png": "[encoded data removed]",
      "text/plain": [
       "<matplotlib.figure.Figure at 0x54d5f6d390>"
      ]
     },
     "metadata": {
      "needs_background": "light"
     },
     "output_type": "display_data"
    }
   ],
   "source": [
    "plt.plot(df['FRAC Its'],df['CR'])\n",
    "plt.xlabel('Iteração/Total')\n",
    "plt.ylabel('CR')"
   ]
  },
  {
   "cell_type": "code",
   "execution_count": 16,
   "metadata": {
    "colab": {
     "base_uri": "https://localhost:8080/",
     "height": 295
    },
    "colab_type": "code",
    "id": "BvPFvbDvteDC",
    "outputId": "8a423d31-63b8-4fbb-9b8e-28e7c5ea2285"
   },
   "outputs": [
    {
     "data": {
      "image/png": "[encoded data removed]",
      "text/plain": [
       "<matplotlib.figure.Figure at 0x54d6127828>"
      ]
     },
     "metadata": {
      "needs_background": "light"
     },
     "output_type": "display_data"
    }
   ],
   "source": [
    "\n",
    "fig, ax = plt.subplots()\n",
    "ax.plot(df['FRAC Its'],df['F'],label='F')\n",
    "ax.set_xlabel('Iteração/Total')\n",
    "ax.set_ylabel('Parâmetros')\n",
    "ax.plot(df['FRAC Its'],df['CR'],'-r', label='CR')\n",
    "nome=Fun.__name__+'  M=Diversidade'+ '  D='+str(dim)\n",
    "ax.set_title(nome)\n",
    "leg = ax.legend()\n"
   ]
  },
  {
   "cell_type": "code",
   "execution_count": 17,
   "metadata": {
    "colab": {
     "base_uri": "https://localhost:8080/",
     "height": 313
    },
    "colab_type": "code",
    "id": "htooaGpDia_0",
    "outputId": "2e9b85c2-4764-4d9e-934f-c2bd84b216d1"
   },
   "outputs": [
    {
     "data": {
      "text/plain": [
       "<matplotlib.text.Text at 0x54dda02c50>"
      ]
     },
     "execution_count": 17,
     "metadata": {},
     "output_type": "execute_result"
    },
    {
     "data": {
      "image/png": "[encoded data removed]",
      "text/plain": [
       "<matplotlib.figure.Figure at 0x54dc76d4a8>"
      ]
     },
     "metadata": {
      "needs_background": "light"
     },
     "output_type": "display_data"
    }
   ],
   "source": [
    "f, axarr = plt.subplots(2, sharex=True)\n",
    "axarr[0].plot(df['FRAC Its'],df['F'])\n",
    "axarr[0].set_ylabel('F')\n",
    "axarr[1].plot(df['FRAC Its'],df['CR'])\n",
    "axarr[1].set_ylabel('CR')\n",
    "axarr[1].set_xlabel('Iteração/Total')\n",
    "nome=Fun.__name__+'_Diversidade_'+ 'D='+str(dim)\n",
    "axarr[0].set_title(nome)\n"
   ]
  },
  {
   "cell_type": "code",
   "execution_count": 18,
   "metadata": {
    "colab": {
     "base_uri": "https://localhost:8080/",
     "height": 301
    },
    "colab_type": "code",
    "id": "lNSN5X-wskcx",
    "outputId": "599f75fc-765f-4739-e1aa-80df2aec5f27"
   },
   "outputs": [
    {
     "name": "stdout",
     "output_type": "stream",
     "text": [
      "DE_POP_VAR_F_CR TOTAL= 750000 Iterações= 5000 Dim= 30 Min/Max= -100 / 100 _ Schwefel_12\n",
      "_ANN_Div3x4_Fo-0.5_CRo-0.5_D-30_Interv-5000 \n",
      "\n",
      "MÉDIA:  10900.1389921\n",
      "MIN __: 5867.02436792\n",
      "MAX__:  14562.3969191\n",
      "STD __: 1793.00217738\n",
      "Tempo Médio= 739.196 segundos ---\n",
      "50 Rodadas\n",
      "\n",
      "BEST:  [ -2.31267057e+01   1.33328117e+01  -7.65557863e+00   2.10260844e+01\n",
      "  -3.14175238e+01   5.15010552e+01  -2.43305209e+01   1.66223751e+00\n",
      "   2.99712307e+01  -3.59955237e+01  -5.19906407e+00   4.30267185e+01\n",
      "  -5.49760178e+01   7.49433836e+00   8.08253753e+00   1.00100231e+01\n",
      "  -1.77111018e+00  -4.84749738e+00   3.74896602e+00  -1.61279051e+01\n",
      "   2.37068924e+01  -1.31112303e+01   1.99586876e+01  -2.34366204e+01\n",
      "   7.74948795e+00  -3.83495896e-01   1.50239791e+00   1.75873788e+00\n",
      "  -4.00020079e+00   2.19025772e-01   5.86702437e+03]\n"
     ]
    }
   ],
   "source": [
    "nome='_ANN_Div3x4_Fo-'+str(Fi)+'_CRo-'+str(CRi)+'_D-'+str(dim)+'_Interv-'+str(ITE)\n",
    "print('DE_POP_VAR_F_CR','TOTAL=',TOTAL,'Iterações=',ITE*its,'Dim=', PAR,\"Min/Max=\",MIN[0],\"/\",MAX[0],'_',Fun.__name__)\n",
    "print(nome, '\\n')\n",
    "print('MÉDIA: ',MEAN[-1])\n",
    "print('MIN __:',MINFO)\n",
    "print('MAX__: ',MAXFO)\n",
    "print('STD __:',STD)\n",
    "print(\"Tempo Médio= %.3f segundos ---\" % (TIME))\n",
    "print(RUNS,'Rodadas') \n",
    "print()\n",
    "print('BEST: ',BEST)\n"
   ]
  },
  {
   "cell_type": "code",
   "execution_count": null,
   "metadata": {
    "colab": {},
    "colab_type": "code",
    "id": "aPPrDD5-_X6F"
   },
   "outputs": [],
   "source": []
  }
 ],
 "metadata": {
  "accelerator": "GPU",
  "colab": {
   "collapsed_sections": [],
   "name": "Schwefel_222_jun_25_2020.ipynb",
   "provenance": []
  },
  "kernelspec": {
   "display_name": "Python 3",
   "language": "python",
   "name": "python3"
  },
  "language_info": {
   "codemirror_mode": {
    "name": "ipython",
    "version": 3
   },
   "file_extension": ".py",
   "mimetype": "text/x-python",
   "name": "python",
   "nbconvert_exporter": "python",
   "pygments_lexer": "ipython3",
   "version": "3.6.1"
  }
 },
 "nbformat": 4,
 "nbformat_minor": 1
}
